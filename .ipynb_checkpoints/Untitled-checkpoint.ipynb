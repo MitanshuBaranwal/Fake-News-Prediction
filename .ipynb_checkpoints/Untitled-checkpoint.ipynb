{
 "cells": [
  {
   "cell_type": "code",
   "execution_count": null,
   "id": "04b28dda",
   "metadata": {},
   "outputs": [],
   "source": [
    "import pandas as pd\n",
    "import numpy as np\n",
    "import seaborn as sns\n",
    "import matplotlib.pyplot as plt\n",
    "from sklearn.model_selection import train_test_split\n",
    "from sklearn.metrics import accuracy_score\n",
    "from sklearn.metrics import classification_report\n",
    "import re\n",
    "import string\n",
    "from sklearn.feature_extraction.text import TfidfVectorizer\n",
    "from sklearn.linear_model import LogisticRegression\n",
    "from sklearn.tree import DecisionTreeClassifier\n",
    "from sklearn.ensemble import GradientBoostingClassifier\n",
    "from sklearn.ensemble import RandomForestClassifier"
   ]
  },
  {
   "cell_type": "code",
   "execution_count": null,
   "id": "aa2da31b",
   "metadata": {},
   "outputs": [],
   "source": [
    "true_df =  pd.read_csv(\"True.csv\")\n",
    "true_df\n"
   ]
  },
  {
   "cell_type": "code",
   "execution_count": null,
   "id": "38b48a35",
   "metadata": {},
   "outputs": [],
   "source": [
    "fake_df =  pd.read_csv(\"Fake.csv\")\n",
    "fake_df"
   ]
  },
  {
   "cell_type": "code",
   "execution_count": null,
   "id": "bdf9e26f",
   "metadata": {},
   "outputs": [],
   "source": [
    "true_df[\"class\"] = 1\n",
    "fake_df[\"class\"] = 0"
   ]
  },
  {
   "cell_type": "code",
   "execution_count": null,
   "id": "1e560a95",
   "metadata": {},
   "outputs": [],
   "source": [
    "df = pd.concat([true_df,fake_df],axis =0)"
   ]
  },
  {
   "cell_type": "code",
   "execution_count": null,
   "id": "7458da5a",
   "metadata": {},
   "outputs": [],
   "source": [
    "df"
   ]
  },
  {
   "cell_type": "code",
   "execution_count": null,
   "id": "47103069",
   "metadata": {},
   "outputs": [],
   "source": [
    "df.drop([\"title\",\"subject\",\"date\"],axis = 1,inplace = True)"
   ]
  },
  {
   "cell_type": "code",
   "execution_count": null,
   "id": "1fda0fec",
   "metadata": {},
   "outputs": [],
   "source": [
    "df"
   ]
  },
  {
   "cell_type": "code",
   "execution_count": null,
   "id": "87b98dde",
   "metadata": {},
   "outputs": [],
   "source": [
    "df.isnull().sum()"
   ]
  },
  {
   "cell_type": "markdown",
   "id": "8e94fe77",
   "metadata": {},
   "source": [
    "## Do random shuffling of data"
   ]
  },
  {
   "cell_type": "code",
   "execution_count": null,
   "id": "08d89b5d",
   "metadata": {},
   "outputs": [],
   "source": [
    "df = df.sample(frac= 1)"
   ]
  },
  {
   "cell_type": "code",
   "execution_count": null,
   "id": "b8499687",
   "metadata": {},
   "outputs": [],
   "source": [
    "df"
   ]
  },
  {
   "cell_type": "code",
   "execution_count": null,
   "id": "792e94fc",
   "metadata": {},
   "outputs": [],
   "source": [
    "df.reset_index(inplace = True)"
   ]
  },
  {
   "cell_type": "code",
   "execution_count": null,
   "id": "d05ffc4c",
   "metadata": {},
   "outputs": [],
   "source": [
    "df.drop([\"index\"],axis = 1,inplace = True)\n",
    "df"
   ]
  },
  {
   "cell_type": "code",
   "execution_count": null,
   "id": "2fd8a40b",
   "metadata": {},
   "outputs": [],
   "source": [
    "df.columns"
   ]
  },
  {
   "cell_type": "code",
   "execution_count": null,
   "id": "c9fc9aa5",
   "metadata": {},
   "outputs": [],
   "source": [
    "def clean_text(text):\n",
    "    # Remove HTML tags\n",
    "    text = re.sub(r'<.*?>', '', text)\n",
    "    \n",
    "    # Remove non alphabetic characters\n",
    "    text = re.sub(r'[^a-zA-Z]', ' ', text)\n",
    "    \n",
    "    # Convert to lowercase\n",
    "    text = text.lower()\n",
    "    \n",
    "    # Remove extra whitespaces\n",
    "    text = re.sub(r'\\s+', ' ', text) \n",
    "    return text"
   ]
  },
  {
   "cell_type": "code",
   "execution_count": null,
   "id": "5fb2d2d4",
   "metadata": {},
   "outputs": [],
   "source": [
    "df[\"text\"] = df[\"text\"].apply(clean_text)\n",
    "df.head()"
   ]
  },
  {
   "cell_type": "code",
   "execution_count": null,
   "id": "201756d8",
   "metadata": {},
   "outputs": [],
   "source": [
    "df.head()"
   ]
  },
  {
   "cell_type": "code",
   "execution_count": null,
   "id": "eb9971f1",
   "metadata": {},
   "outputs": [],
   "source": [
    "X = df[\"text\"]\n",
    "Y = df[\"class\"]"
   ]
  },
  {
   "cell_type": "code",
   "execution_count": null,
   "id": "1761be98",
   "metadata": {},
   "outputs": [],
   "source": [
    "X_train,X_test, Y_train, Y_test = train_test_split(X,Y,test_size = 0.2)"
   ]
  },
  {
   "cell_type": "code",
   "execution_count": null,
   "id": "c11ba6ce",
   "metadata": {},
   "outputs": [],
   "source": [
    "print(X_train.shape,X_test.shape,Y_train.shape,Y_test.shape)"
   ]
  },
  {
   "cell_type": "code",
   "execution_count": null,
   "id": "b9491388",
   "metadata": {},
   "outputs": [],
   "source": [
    "Vectorizer = TfidfVectorizer()\n",
    "# fit_transform method for training data to both learn the vocabulary and transform the data\n",
    "XV_train = Vectorizer.fit_transform(X_train)\n",
    "# transform method is being used with test data to apply the same mapping without altering the learned vocabulary and IDF values. \n",
    "XV_test = Vectorizer.transform(X_test)"
   ]
  },
  {
   "cell_type": "code",
   "execution_count": null,
   "id": "a913a110",
   "metadata": {},
   "outputs": [],
   "source": [
    "lr = LogisticRegression()\n",
    "lr.fit(XV_train,Y_train)"
   ]
  },
  {
   "cell_type": "code",
   "execution_count": null,
   "id": "8306483c",
   "metadata": {},
   "outputs": [],
   "source": [
    "predict_lr = lr.predict(XV_test)\n",
    "predict_lr"
   ]
  },
  {
   "cell_type": "code",
   "execution_count": null,
   "id": "3bf65958",
   "metadata": {},
   "outputs": [],
   "source": [
    "lr.score(XV_test,Y_test)"
   ]
  },
  {
   "cell_type": "code",
   "execution_count": null,
   "id": "f8bb67d7",
   "metadata": {},
   "outputs": [],
   "source": [
    "dt = DecisionTreeClassifier()\n",
    "dt.fit(XV_train,Y_train)"
   ]
  },
  {
   "cell_type": "code",
   "execution_count": null,
   "id": "3f97914d",
   "metadata": {},
   "outputs": [],
   "source": [
    "predict_dt = dt.predict(XV_test)"
   ]
  },
  {
   "cell_type": "code",
   "execution_count": null,
   "id": "84e3133a",
   "metadata": {},
   "outputs": [],
   "source": [
    "dt.score(XV_test,Y_test)"
   ]
  },
  {
   "cell_type": "code",
   "execution_count": null,
   "id": "0262ff57",
   "metadata": {},
   "outputs": [],
   "source": [
    "rec = RandomForestClassifier(random_state = 0)\n",
    "rec.fit(XV_train,Y_train)"
   ]
  },
  {
   "cell_type": "code",
   "execution_count": null,
   "id": "cc0e3776",
   "metadata": {},
   "outputs": [],
   "source": [
    "predict_rec = rec.predict(XV_test)"
   ]
  },
  {
   "cell_type": "code",
   "execution_count": null,
   "id": "ad0e17ab",
   "metadata": {},
   "outputs": [],
   "source": [
    "gb =  GradientBoostingClassifier(random_state =0)\n",
    "gb.fit(XV_train,Y_train)"
   ]
  },
  {
   "cell_type": "code",
   "execution_count": null,
   "id": "9d9487b4",
   "metadata": {},
   "outputs": [],
   "source": [
    "predict_gb = gb.predict(XV_test)"
   ]
  },
  {
   "cell_type": "code",
   "execution_count": null,
   "id": "c97f0c73",
   "metadata": {},
   "outputs": [],
   "source": [
    "gb.score(XV_test,Y_test)"
   ]
  },
  {
   "cell_type": "code",
   "execution_count": null,
   "id": "2820693d",
   "metadata": {},
   "outputs": [],
   "source": []
  }
 ],
 "metadata": {
  "kernelspec": {
   "display_name": "Python 3 (ipykernel)",
   "language": "python",
   "name": "python3"
  },
  "language_info": {
   "codemirror_mode": {
    "name": "ipython",
    "version": 3
   },
   "file_extension": ".py",
   "mimetype": "text/x-python",
   "name": "python",
   "nbconvert_exporter": "python",
   "pygments_lexer": "ipython3",
   "version": "3.11.4"
  }
 },
 "nbformat": 4,
 "nbformat_minor": 5
}
